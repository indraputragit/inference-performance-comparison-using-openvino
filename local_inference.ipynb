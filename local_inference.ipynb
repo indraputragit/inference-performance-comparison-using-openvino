{
 "cells": [
  {
   "cell_type": "markdown",
   "metadata": {},
   "source": [
    "## Inference on Local Dekstop"
   ]
  },
  {
   "cell_type": "code",
   "execution_count": 1,
   "metadata": {},
   "outputs": [],
   "source": [
    "import tensorflow as tf\n",
    "import os\n",
    "import cv2\n",
    "import math\n",
    "import numpy as np\n",
    "import pandas as pd\n",
    "import time\n",
    "\n",
    "from PIL import Image\n",
    "from sklearn.metrics import roc_curve, auc\n",
    "from openvino.inference_engine import IECore\n",
    "\n",
    "from matplotlib import pyplot as plt\n",
    "%matplotlib inline"
   ]
  },
  {
   "cell_type": "code",
   "execution_count": 2,
   "metadata": {},
   "outputs": [],
   "source": [
    "model_filepath = \"masked_face_classifier.pb\"\n",
    "path_no_mask = 'masked-face-image-classification/image_classification_dataset_96_split_trainvaltest/{}/0/'\n",
    "path_mask = 'masked-face-image-classification/image_classification_dataset_96_split_trainvaltest/{}/1/'"
   ]
  },
  {
   "cell_type": "markdown",
   "metadata": {},
   "source": [
    "### 1. Generate Test Dataset"
   ]
  },
  {
   "cell_type": "code",
   "execution_count": 3,
   "metadata": {},
   "outputs": [],
   "source": [
    "image_list = []\n",
    "for t in ['train', 'test', 'val']:\n",
    "    path = path_no_mask.format(t)\n",
    "    for i in os.listdir(path):\n",
    "        image_list.append((path, i, 0))\n",
    "\n",
    "for t in ['train', 'test', 'val']:\n",
    "    path = path_mask.format(t)\n",
    "    for i in os.listdir(path):\n",
    "        image_list.append((path, i, 1))"
   ]
  },
  {
   "cell_type": "markdown",
   "metadata": {},
   "source": [
    "### 2.a. Inference using tensorflow pipeline batch 1"
   ]
  },
  {
   "cell_type": "code",
   "execution_count": 5,
   "metadata": {},
   "outputs": [
    {
     "name": "stdout",
     "output_type": "stream",
     "text": [
      "FPS for inference using pb with 1 batch is 117.7084163556254.\n"
     ]
    }
   ],
   "source": [
    "names = []\n",
    "labels = []\n",
    "scores = []\n",
    "duration = []\n",
    "\n",
    "with tf.gfile.GFile(model_filepath, \"rb\") as f:\n",
    "    graph_def = tf.GraphDef()\n",
    "    graph_def.ParseFromString(f.read())\n",
    "\n",
    "    with tf.Graph().as_default() as graph:\n",
    "        tf.import_graph_def(graph_def,\n",
    "                            input_map=None,\n",
    "                            return_elements=None,\n",
    "                            name=\"\")\n",
    "        \n",
    "        image_tensor = graph.get_tensor_by_name(\"mobilenetv2_1.00_96_input:0\")\n",
    "        classification_scores = graph.get_tensor_by_name(\"classification_scores:0\")\n",
    "        \n",
    "        with tf.Session(graph=graph) as sess:\n",
    "            \n",
    "            for path,name,label in image_list:\n",
    "                img = cv2.imread(path + name)\n",
    "                img = img/255\n",
    "                img = np.expand_dims(img, axis=0)\n",
    "\n",
    "                start = time.time()\n",
    "                result = sess.run(classification_scores, feed_dict={image_tensor: img})\n",
    "                end = time.time()\n",
    "                \n",
    "                names.append(name)\n",
    "                scores.append(result[0][0])\n",
    "                labels.append(label)\n",
    "                duration.append(end-start)\n",
    "\n",
    "print(\"FPS for inference using pb with 1 batch is {}.\".format(str(1/np.median(duration))))\n",
    "                "
   ]
  },
  {
   "cell_type": "code",
   "execution_count": 6,
   "metadata": {},
   "outputs": [
    {
     "data": {
      "image/png": "[encoded data removed]",
      "text/plain": [
       "<Figure size 432x288 with 1 Axes>"
      ]
     },
     "metadata": {
      "needs_background": "light"
     },
     "output_type": "display_data"
    }
   ],
   "source": [
    "fpr = dict()\n",
    "tpr = dict()\n",
    "roc_auc = dict()\n",
    "for i in range(2):\n",
    "    fpr[i], tpr[i], _ = roc_curve(labels, scores)\n",
    "    roc_auc[i] = auc(fpr[i], tpr[i])\n",
    "\n",
    "lw = 2\n",
    "plt.plot(fpr[1], tpr[1], color='darkorange',\n",
    "         lw=lw, label='ROC curve (area = %0.2f)' % roc_auc[1])\n",
    "plt.plot([0, 1], [0, 1], color='navy', lw=lw, linestyle='--')\n",
    "plt.xlim([0.0, 1.0])\n",
    "plt.ylim([0.0, 1.05])\n",
    "plt.xlabel('False Positive Rate')\n",
    "plt.ylabel('True Positive Rate')\n",
    "plt.title('Receiver operating characteristic')\n",
    "plt.legend(loc=\"lower right\")\n",
    "plt.show()"
   ]
  },
  {
   "cell_type": "markdown",
   "metadata": {},
   "source": [
    "### 2.b. Inference using openvino pipeline batch 1"
   ]
  },
  {
   "cell_type": "code",
   "execution_count": 7,
   "metadata": {},
   "outputs": [],
   "source": [
    "from openvino.inference_engine import IECore"
   ]
  },
  {
   "cell_type": "code",
   "execution_count": 8,
   "metadata": {},
   "outputs": [
    {
     "name": "stdout",
     "output_type": "stream",
     "text": [
      "Configuration parameters settings:\n",
      "\tmodel_xml= batch_1/masked_face_classifier.xml \n",
      "\tmodel_bin= batch_1/masked_face_classifier.bin \n",
      "\tdevice= CPU \n",
      "\treport_top_n= 10\n",
      "An Inference Engine object has been created\n",
      "Loaded model IR files [ batch_1/masked_face_classifier.bin ] and [ batch_1/masked_face_classifier.xml ]\n",
      "\n",
      "SUCCESS: Model IR files have been loaded and verified\n",
      "Loaded model into Inference Engine for device: CPU \n",
      "Model input dimensions: n= 1 , c= 3 , h= 96 , w= 96\n",
      "FPS for inference using pb with 1 batch is 512.8137914170436.\n"
     ]
    }
   ],
   "source": [
    "model_xml = \"batch_1/masked_face_classifier.xml\"\n",
    "model_bin = \"batch_1/masked_face_classifier.bin\"\n",
    "\n",
    "cpu_extension_path = os.path.expanduser(\"~\")+\"/inference_engine_samples/intel64/Release/lib/libcpu_extension.so\"\n",
    "\n",
    "device = \"CPU\"\n",
    "\n",
    "report_top_n = 10\n",
    "\n",
    "print(\"Configuration parameters settings:\"\n",
    "     \"\\n\\tmodel_xml=\", model_xml,\n",
    "      \"\\n\\tmodel_bin=\", model_bin,\n",
    "      \"\\n\\tdevice=\", device, \n",
    "      \"\\n\\treport_top_n=\", report_top_n)\n",
    "\n",
    "# create Inference Engine instance\n",
    "ie = IECore()\n",
    "print(\"An Inference Engine object has been created\")\n",
    "\n",
    "# load network from IR files\n",
    "net = ie.read_network(model=model_xml, weights=model_bin)\n",
    "print(\"Loaded model IR files [\",model_bin,\"] and [\", model_xml, \"]\\n\")\n",
    "\n",
    "# check to make sure that the plugin has support for all layers in the loaded model\n",
    "supported_layers = ie.query_network(net,device)\n",
    "not_supported_layers = [l for l in net.layers.keys() if l not in supported_layers]\n",
    "if len(not_supported_layers) != 0:\n",
    "    print(\"ERROR: Following layers are not supported by the plugin for specified\",\n",
    "          \" device {}:\\n {}\".format(device, ', '.join(not_supported_layers)))\n",
    "    assert 0 == 1, \"ERROR: Missing support for all layers in the model,\" \\\n",
    "               + \" cannot continue.\"\n",
    "\n",
    "# check to make sue that the model's input and output are what is expected\n",
    "assert len(net.inputs.keys()) == 1, \\\n",
    "    \"ERROR: This sample supports only single input topologies\"\n",
    "assert len(net.outputs) == 1, \\\n",
    "    \"ERROR: This sample supports only single output topologies\"\n",
    "print(\"SUCCESS: Model IR files have been loaded and verified\")\n",
    "\n",
    "exec_net = ie.load_network(network=net, num_requests=2, device_name=device)\n",
    "\n",
    "# store name of input and output blobs\n",
    "input_blob = next(iter(net.inputs))\n",
    "\n",
    "# read the input's dimensions: n=batch size, c=number of channels, h=height, w=width\n",
    "n, c, h, w = net.inputs[input_blob].shape\n",
    "print(\"Loaded model into Inference Engine for device:\", device, \n",
    "      \"\\nModel input dimensions: n=\",n,\", c=\",c,\", h=\",h,\", w=\",w)\n",
    "\n",
    "names = []\n",
    "labels = []\n",
    "scores = []\n",
    "duration = []\n",
    "\n",
    "for path,name,label in image_list:\n",
    "    img = cv2.imread(path + name)\n",
    "    img = img/255\n",
    "    img = img.transpose((2, 0, 1)) \n",
    "    img = np.expand_dims(img, axis=0)\n",
    "\n",
    "    start = time.time()\n",
    "    result = exec_net.infer(inputs={input_blob: img})\n",
    "    end = time.time()\n",
    "\n",
    "    names.append(name)\n",
    "    scores.append(result['activation/Sigmoid'][0][0])\n",
    "    labels.append(label)\n",
    "    duration.append(end-start)\n",
    "    \n",
    "print(\"FPS for inference using pb with 1 batch is {}.\".format(str(1/np.median(duration))))\n"
   ]
  },
  {
   "cell_type": "code",
   "execution_count": 9,
   "metadata": {},
   "outputs": [
    {
     "data": {
      "image/png": "[encoded data removed]",
      "text/plain": [
       "<Figure size 432x288 with 1 Axes>"
      ]
     },
     "metadata": {
      "needs_background": "light"
     },
     "output_type": "display_data"
    }
   ],
   "source": [
    "fpr = dict()\n",
    "tpr = dict()\n",
    "roc_auc = dict()\n",
    "for i in range(2):\n",
    "    fpr[i], tpr[i], _ = roc_curve(labels, scores)\n",
    "    roc_auc[i] = auc(fpr[i], tpr[i])\n",
    "\n",
    "lw = 2\n",
    "plt.plot(fpr[1], tpr[1], color='darkorange',\n",
    "         lw=lw, label='ROC curve (area = %0.2f)' % roc_auc[1])\n",
    "plt.plot([0, 1], [0, 1], color='navy', lw=lw, linestyle='--')\n",
    "plt.xlim([0.0, 1.0])\n",
    "plt.ylim([0.0, 1.05])\n",
    "plt.xlabel('False Positive Rate')\n",
    "plt.ylabel('True Positive Rate')\n",
    "plt.title('Receiver operating characteristic')\n",
    "plt.legend(loc=\"lower right\")\n",
    "plt.show()"
   ]
  },
  {
   "cell_type": "markdown",
   "metadata": {},
   "source": [
    "### 3.a Inference using tensorflow pipeline batch 32"
   ]
  },
  {
   "cell_type": "code",
   "execution_count": 12,
   "metadata": {},
   "outputs": [
    {
     "name": "stdout",
     "output_type": "stream",
     "text": [
      "FPS for inference using pb with 32 batch is 216.03576513157208.\n"
     ]
    }
   ],
   "source": [
    "batch = 32\n",
    "names = []\n",
    "labels = []\n",
    "scores = []\n",
    "duration = []\n",
    "with tf.gfile.GFile(model_filepath, \"rb\") as f:\n",
    "    graph_def = tf.GraphDef()\n",
    "    graph_def.ParseFromString(f.read())\n",
    "\n",
    "    with tf.Graph().as_default() as graph:\n",
    "        tf.import_graph_def(graph_def,\n",
    "                            input_map=None,\n",
    "                            return_elements=None,\n",
    "                            name=\"\")\n",
    "        \n",
    "        image_tensor = graph.get_tensor_by_name(\"mobilenetv2_1.00_96_input:0\")\n",
    "        classification_scores = graph.get_tensor_by_name(\"classification_scores:0\")\n",
    "        \n",
    "        with tf.Session(graph=graph) as sess:\n",
    "            img_batch = []\n",
    "            name_tmp = []\n",
    "            label_tmp = []\n",
    "            \n",
    "            for path,name,label in image_list:\n",
    "                img = cv2.imread(path + name)\n",
    "                img = img/255\n",
    "                img_batch.append(img)\n",
    "                name_tmp.append(name)\n",
    "                label_tmp.append(label)\n",
    "                \n",
    "                if len(img_batch) == batch:\n",
    "                    img = np.array(img_batch)\n",
    "                    start = time.time()\n",
    "                    result = sess.run(classification_scores, feed_dict={image_tensor: img})\n",
    "                    end = time.time()\n",
    "                    \n",
    "                    names += name_tmp\n",
    "                    scores += list(result[:, 0])\n",
    "                    labels += label_tmp\n",
    "                    duration += [(end-start)/batch] * batch\n",
    "                    img_batch = []\n",
    "                    name_tmp = []\n",
    "                    label_tmp = []\n",
    "            \n",
    "            if len(img_batch) == len(image_list)%batch:\n",
    "                img = np.array(img_batch)\n",
    "                start = time.time()\n",
    "                result = sess.run(classification_scores, feed_dict={image_tensor: img})\n",
    "                end = time.time()\n",
    "                \n",
    "                names += name_tmp\n",
    "                scores += list(result[:, 0])\n",
    "                labels += label_tmp\n",
    "                duration += [(end-start)/batch] * batch\n",
    "\n",
    "print(\"FPS for inference using pb with 32 batch is {}.\".format(str(1/np.median(duration))))\n"
   ]
  },
  {
   "cell_type": "code",
   "execution_count": 13,
   "metadata": {},
   "outputs": [
    {
     "data": {
      "image/png": "[encoded data removed]",
      "text/plain": [
       "<Figure size 432x288 with 1 Axes>"
      ]
     },
     "metadata": {
      "needs_background": "light"
     },
     "output_type": "display_data"
    }
   ],
   "source": [
    "fpr = dict()\n",
    "tpr = dict()\n",
    "roc_auc = dict()\n",
    "for i in range(2):\n",
    "    fpr[i], tpr[i], _ = roc_curve(labels, scores)\n",
    "    roc_auc[i] = auc(fpr[i], tpr[i])\n",
    "\n",
    "lw = 2\n",
    "plt.plot(fpr[1], tpr[1], color='darkorange',\n",
    "         lw=lw, label='ROC curve (area = %0.2f)' % roc_auc[1])\n",
    "plt.plot([0, 1], [0, 1], color='navy', lw=lw, linestyle='--')\n",
    "plt.xlim([0.0, 1.0])\n",
    "plt.ylim([0.0, 1.05])\n",
    "plt.xlabel('False Positive Rate')\n",
    "plt.ylabel('True Positive Rate')\n",
    "plt.title('Receiver operating characteristic')\n",
    "plt.legend(loc=\"lower right\")\n",
    "plt.show()"
   ]
  },
  {
   "cell_type": "markdown",
   "metadata": {},
   "source": [
    "### 3.b. Inference using openvino pipeline batch 32"
   ]
  },
  {
   "cell_type": "code",
   "execution_count": 14,
   "metadata": {},
   "outputs": [
    {
     "name": "stdout",
     "output_type": "stream",
     "text": [
      "Configuration parameters settings:\n",
      "\tmodel_xml= batch_32/masked_face_classifier.xml \n",
      "\tmodel_bin= batch_32/masked_face_classifier.bin \n",
      "\tdevice= CPU \n",
      "\treport_top_n= 10\n",
      "An Inference Engine object has been created\n",
      "Loaded model IR files [ batch_32/masked_face_classifier.bin ] and [ batch_32/masked_face_classifier.xml ]\n",
      "\n",
      "SUCCESS: Model IR files have been loaded and verified\n",
      "Loaded model into Inference Engine for device: CPU \n",
      "Model input dimensions: n= 32 , c= 3 , h= 96 , w= 96\n",
      "FPS for inference using openvino with 32 batch is 829.2979579227039.\n"
     ]
    }
   ],
   "source": [
    "model_xml = \"batch_32/masked_face_classifier.xml\"\n",
    "model_bin = \"batch_32/masked_face_classifier.bin\"\n",
    "\n",
    "cpu_extension_path = os.path.expanduser(\"~\")+\"/inference_engine_samples/intel64/Release/lib/libcpu_extension.so\"\n",
    "\n",
    "device = \"CPU\"\n",
    "\n",
    "report_top_n = 10\n",
    "\n",
    "print(\"Configuration parameters settings:\"\n",
    "     \"\\n\\tmodel_xml=\", model_xml,\n",
    "      \"\\n\\tmodel_bin=\", model_bin,\n",
    "      \"\\n\\tdevice=\", device, \n",
    "      \"\\n\\treport_top_n=\", report_top_n)\n",
    "\n",
    "# create Inference Engine instance\n",
    "ie = IECore()\n",
    "print(\"An Inference Engine object has been created\")\n",
    "\n",
    "# load network from IR files\n",
    "net = ie.read_network(model=model_xml, weights=model_bin)\n",
    "print(\"Loaded model IR files [\",model_bin,\"] and [\", model_xml, \"]\\n\")\n",
    "\n",
    "# check to make sure that the plugin has support for all layers in the loaded model\n",
    "supported_layers = ie.query_network(net,device)\n",
    "not_supported_layers = [l for l in net.layers.keys() if l not in supported_layers]\n",
    "if len(not_supported_layers) != 0:\n",
    "    print(\"ERROR: Following layers are not supported by the plugin for specified\",\n",
    "          \" device {}:\\n {}\".format(device, ', '.join(not_supported_layers)))\n",
    "    assert 0 == 1, \"ERROR: Missing support for all layers in the model,\" \\\n",
    "               + \" cannot continue.\"\n",
    "\n",
    "# check to make sue that the model's input and output are what is expected\n",
    "assert len(net.inputs.keys()) == 1, \\\n",
    "    \"ERROR: This sample supports only single input topologies\"\n",
    "assert len(net.outputs) == 1, \\\n",
    "    \"ERROR: This sample supports only single output topologies\"\n",
    "print(\"SUCCESS: Model IR files have been loaded and verified\")\n",
    "\n",
    "exec_net = ie.load_network(network=net, num_requests=2, device_name=device)\n",
    "\n",
    "# store name of input and output blobs\n",
    "input_blob = next(iter(net.inputs))\n",
    "\n",
    "# read the input's dimensions: n=batch size, c=number of channels, h=height, w=width\n",
    "n, c, h, w = net.inputs[input_blob].shape\n",
    "print(\"Loaded model into Inference Engine for device:\", device, \n",
    "      \"\\nModel input dimensions: n=\",n,\", c=\",c,\", h=\",h,\", w=\",w)\n",
    "\n",
    "labels_map = ['Wearing Mask', 'Not Wearing Mask']\n",
    "\n",
    "batch = 32\n",
    "scores = []\n",
    "img_batch = []\n",
    "labels = []\n",
    "duration = []\n",
    "label_tmp = []\n",
    "\n",
    "mod_img = len(image_list)%batch\n",
    "for path,name,label in image_list:\n",
    "    img = cv2.imread(path + name)\n",
    "    img = img/255\n",
    "    img = img.transpose((2, 0, 1)) \n",
    "    img_batch.append(img)\n",
    "    label_tmp.append(label)\n",
    "\n",
    "    if len(img_batch) == batch:\n",
    "        img = np.array(img_batch)\n",
    "        start = time.time()\n",
    "        result = exec_net.infer(inputs={input_blob: img})\n",
    "        end = time.time()\n",
    "        \n",
    "        scores += list(result['activation/Sigmoid'][:,0])\n",
    "        labels += label_tmp\n",
    "        duration += [(end-start)/batch] * batch\n",
    "        img_batch = []\n",
    "        label_tmp = []\n",
    "\n",
    "if len(img_batch) == mod_img:\n",
    "    img = np.array(img_batch)\n",
    "    tmp = np.zeros([batch-mod_img, 3, 96, 96])\n",
    "    img = np.concatenate([img, tmp], axis=0)\n",
    "    start = time.time()\n",
    "    result = exec_net.infer(inputs={input_blob: img})\n",
    "    end = time.time()\n",
    "    \n",
    "    scores += list(result['activation/Sigmoid'][:mod_img,0])\n",
    "    labels += label_tmp\n",
    "    duration += [(end-start)/batch] * batch\n",
    "\n",
    "print(\"FPS for inference using openvino with 32 batch is {}.\".format(str(1/np.median(duration))))\n"
   ]
  },
  {
   "cell_type": "code",
   "execution_count": 15,
   "metadata": {},
   "outputs": [
    {
     "data": {
      "image/png": "[encoded data removed]",
      "text/plain": [
       "<Figure size 432x288 with 1 Axes>"
      ]
     },
     "metadata": {
      "needs_background": "light"
     },
     "output_type": "display_data"
    }
   ],
   "source": [
    "fpr = dict()\n",
    "tpr = dict()\n",
    "roc_auc = dict()\n",
    "for i in range(2):\n",
    "    fpr[i], tpr[i], _ = roc_curve(labels, scores)\n",
    "    roc_auc[i] = auc(fpr[i], tpr[i])\n",
    "\n",
    "lw = 2\n",
    "plt.plot(fpr[1], tpr[1], color='darkorange',\n",
    "         lw=lw, label='ROC curve (area = %0.2f)' % roc_auc[1])\n",
    "plt.plot([0, 1], [0, 1], color='navy', lw=lw, linestyle='--')\n",
    "plt.xlim([0.0, 1.0])\n",
    "plt.ylim([0.0, 1.05])\n",
    "plt.xlabel('False Positive Rate')\n",
    "plt.ylabel('True Positive Rate')\n",
    "plt.title('Receiver operating characteristic')\n",
    "plt.legend(loc=\"lower right\")\n",
    "plt.show()"
   ]
  },
  {
   "cell_type": "code",
   "execution_count": null,
   "metadata": {},
   "outputs": [],
   "source": []
  }
 ],
 "metadata": {
  "kernelspec": {
   "display_name": "Python 3",
   "language": "python",
   "name": "python3"
  },
  "language_info": {
   "codemirror_mode": {
    "name": "ipython",
    "version": 3
   },
   "file_extension": ".py",
   "mimetype": "text/x-python",
   "name": "python",
   "nbconvert_exporter": "python",
   "pygments_lexer": "ipython3",
   "version": "3.5.2"
  }
 },
 "nbformat": 4,
 "nbformat_minor": 2
}
